{
 "cells": [
  {
   "cell_type": "markdown",
   "metadata": {
    "collapsed": true,
    "pycharm": {
     "name": "#%% md\n"
    }
   },
   "source": [
    "# Data Visualisation Portfolio - 199110629"
   ]
  },
  {
   "cell_type": "markdown",
   "source": [
    "## Package Imports"
   ],
   "metadata": {
    "collapsed": false,
    "pycharm": {
     "name": "#%% md\n"
    }
   }
  },
  {
   "cell_type": "code",
   "source": [
    "import pandas as pd\n",
    "import numpy as np\n",
    "import matplotlib.pyplot as plt\n",
    "import seaborn as sns\n",
    "import json\n",
    "import plotly.express as px\n",
    "import plotly.io as pio"
   ],
   "metadata": {
    "collapsed": false,
    "pycharm": {
     "name": "#%%\n"
    }
   },
   "execution_count": 1,
   "outputs": []
  },
  {
   "cell_type": "markdown",
   "source": [
    "# Data Imports"
   ],
   "metadata": {
    "collapsed": false
   }
  },
  {
   "cell_type": "markdown",
   "source": [
    "## Mapping shapefiles"
   ],
   "metadata": {
    "collapsed": false,
    "pycharm": {
     "name": "#%% md\n"
    }
   }
  },
  {
   "cell_type": "code",
   "execution_count": 2,
   "outputs": [],
   "source": [
    "# In theory, you could use the Open data portal API but it times out on this data for some reason so downloaded directly\n",
    "with open('Local_Authority_Districts_(December_2021)_GB_BGC.geojson') as file:\n",
    "    uk_districts = json.load(file)"
   ],
   "metadata": {
    "collapsed": false,
    "pycharm": {
     "name": "#%%\n"
    }
   }
  },
  {
   "cell_type": "markdown",
   "source": [
    "## ONS house price to earnings\n",
    "\n",
    "Data is sourced from the ONS dataset (House price to workplace-based earnings ratio) accessed from the [ONS website](https://www.ons.gov.uk/peoplepopulationandcommunity/housing/datasets/ratioofhousepricetoworkplacebasedearningslowerquartileandmedian) downloaded 09/05/2022. The datasource is provided in the repo but the history of publications is available from ONS."
   ],
   "metadata": {
    "collapsed": false
   }
  },
  {
   "cell_type": "code",
   "execution_count": null,
   "outputs": [],
   "source": [
    "data = 'ratioofhousepricetoworkplacebasedearnings.xlsx'\n",
    "#Region\n",
    "price_by_region = pd.read_excel(data, '1a', skiprows=1, usecols='B:AA')\n",
    "earnings_by_region = pd.read_excel(data, '1b', skiprows=1, usecols='B:AA')\n",
    "ratio_by_region = pd.read_excel(data, '1c', skiprows=1, usecols='B:AA')\n",
    "#County\n",
    "price_by_district = pd.read_excel(data, '5a', skiprows=1, usecols='D:AC')\n",
    "earnings_by_district = pd.read_excel(data, '5b', skiprows=1, usecols='D:AC').replace(':', np.NaN)\n",
    "ratio_by_district = pd.read_excel(data, '5c', skiprows=1, usecols='D:AC').replace(':', np.NaN)\n",
    "\n",
    "earnings_by_district"
   ],
   "metadata": {
    "collapsed": false,
    "pycharm": {
     "name": "#%%\n",
     "is_executing": true
    }
   }
  },
  {
   "cell_type": "markdown",
   "source": [
    "# Transformations"
   ],
   "metadata": {
    "collapsed": false,
    "pycharm": {
     "name": "#%% md\n"
    }
   }
  },
  {
   "cell_type": "markdown",
   "source": [
    "## Wide data"
   ],
   "metadata": {
    "collapsed": false
   }
  },
  {
   "cell_type": "code",
   "execution_count": null,
   "outputs": [],
   "source": [
    "def wide_ons_data(data_in,time_step,split_by,metric):\n",
    "    data_out = data_in\n",
    "    data_out.columns = data_out.columns.map(lambda x: str(x)[-4:])\n",
    "    data_out = data_out.transpose()\n",
    "    data_out.columns = data_out.iloc[0]\n",
    "    data_out = data_out[1:].astype(float)\n",
    "    data_out.index.names = [time_step]\n",
    "    data_out.columns.names = [split_by]\n",
    "    data_out = data_out.add_suffix(' '+metric)\n",
    "    return data_out\n",
    "\n",
    "#Region\n",
    "pbr_wide = wide_ons_data(price_by_region, 'Year', 'Region', 'Price')\n",
    "ebr_wide = wide_ons_data(earnings_by_region, 'Year', 'Region', 'Earnings')\n",
    "rbr_wide = wide_ons_data(ratio_by_region, 'Year', 'Region', 'Ratio')\n",
    "#County\n",
    "pbd_wide = wide_ons_data(price_by_district, 'Year', 'District', 'Price')\n",
    "ebd_wide = wide_ons_data(earnings_by_district, 'Year', 'District', 'Earnings')\n",
    "rbd_wide = wide_ons_data(ratio_by_district, 'Year', 'District', 'Ratio')\n",
    "#Combined\n",
    "region_metrics_wide = pd.merge(pd.merge(pbr_wide, ebr_wide, left_index=True, right_index=True),\n",
    "                               rbr_wide, left_index=True, right_index=True)\n",
    "district_metrics_wide = pd.merge(pd.merge(pbd_wide, ebd_wide, left_index=True, right_index=True),\n",
    "                               rbd_wide, left_index=True, right_index=True)\n",
    "district_metrics_wide"
   ],
   "metadata": {
    "collapsed": false,
    "pycharm": {
     "name": "#%%\n",
     "is_executing": true
    }
   }
  },
  {
   "cell_type": "markdown",
   "source": [
    "## Tall data"
   ],
   "metadata": {
    "collapsed": false
   }
  },
  {
   "cell_type": "code",
   "execution_count": 5,
   "outputs": [],
   "source": [
    "def flat_ons_data(data_in,time_step,split_by,value_field):\n",
    "    data_out = data_in.transpose()\n",
    "    data_out.columns = data_out.iloc[0]\n",
    "    data_out = data_out[1:].astype(float)\n",
    "    data_out.index = data_out.index.map(lambda x: str(x)[-4:])\n",
    "    data_out.index.names = [time_step]\n",
    "    data_out.columns.names = [split_by]\n",
    "    data_out = pd.melt(data_out.reset_index(), id_vars=time_step, value_vars=data_out.columns.values.tolist(), var_name=split_by, value_name='Value')\n",
    "    data_out['Metric'] = value_field\n",
    "    return data_out\n",
    "\n",
    "#Region\n",
    "pbr_flat = flat_ons_data(price_by_region, 'Year', 'Region', 'Price')\n",
    "ebr_flat = flat_ons_data(earnings_by_region, 'Year', 'Region', 'Earnings')\n",
    "rbr_flat = flat_ons_data(ratio_by_region, 'Year', 'Region', 'Ratio')\n",
    "#County\n",
    "pbd_flat = flat_ons_data(price_by_district, 'Year', 'District', 'Price')\n",
    "ebd_flat = flat_ons_data(earnings_by_district, 'Year', 'District', 'Earnings')\n",
    "rbd_flat = flat_ons_data(ratio_by_district, 'Year', 'District', 'Ratio')\n",
    "#Combined\n",
    "region_metrics_flat = pd.concat([pbr_flat, ebr_flat, rbr_flat])\n",
    "district_metrics_flat = pd.concat([pbd_flat, ebd_flat, rbd_flat])"
   ],
   "metadata": {
    "collapsed": false,
    "pycharm": {
     "name": "#%%\n"
    }
   }
  },
  {
   "cell_type": "markdown",
   "source": [
    "# Plotting"
   ],
   "metadata": {
    "collapsed": false
   }
  },
  {
   "cell_type": "code",
   "execution_count": null,
   "outputs": [],
   "source": [
    "#Default Colour Palette\n",
    "palette= sns.color_palette(\"husl\",15)\n",
    "sns.palplot(palette)"
   ],
   "metadata": {
    "collapsed": false,
    "pycharm": {
     "name": "#%%\n",
     "is_executing": true
    }
   }
  },
  {
   "cell_type": "code",
   "execution_count": null,
   "outputs": [],
   "source": [
    "#Data Calculations\n",
    "region_metrics_wide['ew_price_pct_dif'] = region_metrics_wide['England and Wales Price'] / region_metrics_wide['England and Wales Price'].iat[0] -1\n",
    "region_metrics_wide['ew_earnings_pct_dif'] = region_metrics_wide['England and Wales Earnings'] / region_metrics_wide['England and Wales Earnings'].iat[0] -1\n",
    "#Additional Imports\n",
    "import matplotlib.ticker as mtick\n",
    "#Setup\n",
    "sns.set_style('ticks')\n",
    "sns.set_palette('husl',2)\n",
    "fig, ax = plt.subplots(figsize = (16,9))\n",
    "#ax\n",
    "sns.lineplot(data=region_metrics_wide, x='Year', y='ew_price_pct_dif', ax=ax, color='black')\n",
    "sns.lineplot(data=region_metrics_wide, x ='Year', y='ew_earnings_pct_dif', ax=ax, color='#bda800')\n",
    "ax.set_title('Percentage change in earnings and house prices from 1997 values')\n",
    "ax.set_xlabel('Year')\n",
    "ax.yaxis.set_major_formatter(mtick.PercentFormatter(1.0))\n",
    "ax.set_ylabel('Percentage change from 1997 values')\n",
    "ax.legend(labels=['House prices', 'Earnings'])\n",
    "#plt\n",
    "plt.tight_layout()\n",
    "plt.savefig(\"images/House Price and Earnings Percentage Change.png\", transparent=False)\n",
    "plt.show()"
   ],
   "metadata": {
    "collapsed": false,
    "pycharm": {
     "name": "#%%\n",
     "is_executing": true
    }
   }
  },
  {
   "cell_type": "code",
   "execution_count": null,
   "outputs": [],
   "source": [
    "#Setup\n",
    "sns.set_style('ticks')\n",
    "sns.set_palette('husl',3)\n",
    "fig, ax = plt.subplots(figsize = (16,9))\n",
    "#ax\n",
    "sns.lineplot(data=region_metrics_wide, x='Year', y='England and Wales Ratio',ax=ax, color=\"#bda800\")\n",
    "ax.axhline(y=4.5, color='black', linestyle='--')\n",
    "ax.text(x=20, y=4.6, s='Sole Income Mortgage Limit', fontsize=10)\n",
    "ax.axhline(y=9.0, color='black', linestyle='--')\n",
    "ax.text(x=3, y=8.8, s='Joint Income Mortgage Limit', fontsize=10)\n",
    "ax.set_title('House Price to Earnings Ratio Since 1997')\n",
    "ax.set_xlabel('Year')\n",
    "ax.set_ylabel('House Price to Earnings Ratio')\n",
    "#plt\n",
    "plt.tight_layout()\n",
    "plt.savefig(\"images/House Price and Earnings Ratio.png\", transparent=False)\n",
    "plt.show()"
   ],
   "metadata": {
    "collapsed": false,
    "pycharm": {
     "name": "#%%\n",
     "is_executing": true
    }
   }
  },
  {
   "cell_type": "code",
   "source": [
    "#Setup\n",
    "sns.set_style('ticks')\n",
    "sns.set_palette('tab10')\n",
    "fig, ax = plt.subplots(figsize = (16, 9))\n",
    "#ax\n",
    "sns.lineplot(data=region_metrics_flat[(region_metrics_flat['Metric']=='Ratio')\n",
    "                                      & (~region_metrics_flat.Region.isin(['England and Wales', 'England']))], x='Year', y='Value', hue='Region', ax=ax)\n",
    "ax.set_title('Region Variance in Ratio of Earnings to House Prices in England and Wales')\n",
    "ax.set_ylabel('House Price to Earnings Ratio')\n",
    "handles,labels = ax.get_legend_handles_labels()\n",
    "order = [6, 7, 5, 8, 3, 4, 2, 9, 1, 0]\n",
    "plt.legend([handles[idx] for idx in order],[labels[idx] for idx in order])\n",
    "#plt\n",
    "plt.tight_layout()\n",
    "plt.savefig(\"images/Region Variance in House Price and Earnings Ratio.png\", transparent=False)\n",
    "plt.show()"
   ],
   "metadata": {
    "collapsed": false,
    "pycharm": {
     "name": "#%%\n",
     "is_executing": true
    }
   },
   "execution_count": null,
   "outputs": []
  },
  {
   "cell_type": "code",
   "execution_count": null,
   "outputs": [],
   "source": [
    "#data tranformations\n",
    "region_metrics_flat['Year'] = region_metrics_flat['Year'].astype(int)\n",
    "district_metrics_flat['Year'] = district_metrics_flat['Year'].astype(int)\n",
    "#Setup\n",
    "sns.set_style('ticks')\n",
    "sns.set_palette('tab10')\n",
    "fig, (ax1, ax2) = plt.subplots(nrows=1, ncols=2, figsize = (16, 9))\n",
    "#ax1\n",
    "sns.histplot(data=region_metrics_flat[(region_metrics_flat['Year'] == 2019)\n",
    "                                      & (region_metrics_flat['Metric'] == 'Ratio')\n",
    "                                      & (~region_metrics_flat.Region.isin(['England and Wales', 'England']))]\n",
    "             , x='Value', ax=ax1, legend=False, color='#bda800')\n",
    "ax1.axvline(x=8.93, color='black', linestyle='--')\n",
    "ax1.text(x=9, y=3.5, s='England and Wales Median')\n",
    "ax1.set_xlabel('House Price to Earnings Ratio')\n",
    "ax1.set_title('Region Variance in Ratio of Earnings to House Prices in England and Wales')\n",
    "#ax2\n",
    "sns.histplot(data=district_metrics_flat[(district_metrics_flat['Year'] == 2019) & (district_metrics_flat['Metric'] == 'Ratio')]\n",
    "             , x='Value', ax=ax2, legend=False, color='#bda800')\n",
    "ax2.axvline(x=8.93, color='black', linestyle='--')\n",
    "ax2.text(x=9.5, y=55, s='England and Wales Median')\n",
    "ax2.set_xlabel('House Price to Earnings Ratio')\n",
    "ax2.set_title('District Variance in Ratio of Earnings to House Prices in England and Wales')\n",
    "#plt\n",
    "plt.tight_layout()\n",
    "plt.savefig(\"images/Histogram of House Price and Earnings Ratio.png\", transparent=False)\n",
    "plt.show()"
   ],
   "metadata": {
    "collapsed": false,
    "pycharm": {
     "name": "#%%\n",
     "is_executing": true
    }
   }
  },
  {
   "cell_type": "code",
   "execution_count": null,
   "outputs": [],
   "source": [
    "district_mapping_data = district_metrics_flat[(district_metrics_flat['Metric'] == 'Ratio') & (district_metrics_flat['Year'] == 2019)]\n",
    "district_mapping_data.set_index('District')\n",
    "district_mapping_data.head()"
   ],
   "metadata": {
    "collapsed": false,
    "pycharm": {
     "name": "#%%\n",
     "is_executing": true
    }
   }
  },
  {
   "cell_type": "code",
   "execution_count": null,
   "outputs": [],
   "source": [
    "fig = px.choropleth(data_frame=district_metrics_flat[(district_metrics_flat['Metric'] == 'Ratio') & (district_metrics_flat['Year'] == 2020)],\n",
    "                    geojson=uk_districts,\n",
    "                    locations='District',\n",
    "                    featureidkey='properties.LAD21NM',\n",
    "                    color='Value',\n",
    "                    color_continuous_scale=[\"black\",\"grey\",\"yellow\"],\n",
    "                    range_color=(3,15),\n",
    "                    labels={'Value':''},\n",
    "                    title='House Price to Earnings Ratio by District 2020')\n",
    "fig.update_geos(visible=False,\n",
    "                fitbounds='locations')\n",
    "fig.update_layout(margin={\"r\":0,\"t\":40,\"l\":0,\"b\":0})\n",
    "fig.write_image(\"images/House Price to Earnings Ratio by District 2020.png\")\n",
    "fig.show()"
   ],
   "metadata": {
    "collapsed": false,
    "pycharm": {
     "name": "#%%\n",
     "is_executing": true
    }
   }
  },
  {
   "cell_type": "code",
   "execution_count": null,
   "outputs": [],
   "source": [
    "fig = px.choropleth(data_frame=district_metrics_flat[(district_metrics_flat['Metric'] == 'Ratio') & (district_metrics_flat['Year'] == 2015)],\n",
    "                    geojson=uk_districts,\n",
    "                    locations='District',\n",
    "                    featureidkey='properties.LAD21NM',\n",
    "                    color='Value',\n",
    "                    color_continuous_scale=[\"black\",\"grey\",\"yellow\"],\n",
    "                    range_color=(3,15),\n",
    "                    labels={'Value':''},\n",
    "                    title='House Price to Earnings Ratio by District 2015')\n",
    "fig.update_geos(visible=False,\n",
    "                fitbounds='locations')\n",
    "fig.update_layout(margin={\"r\":0,\"t\":40,\"l\":0,\"b\":0})\n",
    "fig.write_image(\"images/House Price to Earnings Ratio by District 2015.png\")\n",
    "fig.show()"
   ],
   "metadata": {
    "collapsed": false,
    "pycharm": {
     "name": "#%%\n",
     "is_executing": true
    }
   }
  },
  {
   "cell_type": "code",
   "execution_count": null,
   "outputs": [],
   "source": [
    "fig = px.choropleth(data_frame=district_metrics_flat[(district_metrics_flat['Metric'] == 'Ratio') & (district_metrics_flat['Year'] == 2010)],\n",
    "                    geojson=uk_districts,\n",
    "                    locations='District',\n",
    "                    featureidkey='properties.LAD21NM',\n",
    "                    color='Value',\n",
    "                    color_continuous_scale=[\"black\",\"grey\",\"yellow\"],\n",
    "                    range_color=(3,15),\n",
    "                    labels={'Value':''},\n",
    "                    title='House Price to Earnings Ratio by District 2010')\n",
    "fig.update_geos(visible=False,\n",
    "                fitbounds='locations')\n",
    "fig.update_layout(margin={\"r\":0,\"t\":40,\"l\":0,\"b\":0})\n",
    "fig.write_image(\"images/House Price to Earnings Ratio by District 2010.png\")\n",
    "fig.show()"
   ],
   "metadata": {
    "collapsed": false,
    "pycharm": {
     "name": "#%%\n",
     "is_executing": true
    }
   }
  },
  {
   "cell_type": "code",
   "execution_count": null,
   "outputs": [],
   "source": [
    "fig = px.choropleth(data_frame=district_metrics_flat[(district_metrics_flat['Metric'] == 'Ratio') & (district_metrics_flat['Year'] == 2005)],\n",
    "                    geojson=uk_districts,\n",
    "                    locations='District',\n",
    "                    featureidkey='properties.LAD21NM',\n",
    "                    color='Value',\n",
    "                    color_continuous_scale=[\"black\",\"grey\",\"yellow\"],\n",
    "                    range_color=(3,15),\n",
    "                    labels={'Value':''},\n",
    "                    title='House Price to Earnings Ratio by District 2005')\n",
    "fig.update_geos(visible=False,\n",
    "                fitbounds='locations')\n",
    "fig.update_layout(margin={\"r\":0,\"t\":40,\"l\":0,\"b\":0})\n",
    "fig.write_image(\"images/House Price to Earnings Ratio by District 2005.png\")\n",
    "fig.show()"
   ],
   "metadata": {
    "collapsed": false,
    "pycharm": {
     "name": "#%%\n",
     "is_executing": true
    }
   }
  }
 ],
 "metadata": {
  "kernelspec": {
   "display_name": "Python 3",
   "language": "python",
   "name": "python3"
  },
  "language_info": {
   "codemirror_mode": {
    "name": "ipython",
    "version": 2
   },
   "file_extension": ".py",
   "mimetype": "text/x-python",
   "name": "python",
   "nbconvert_exporter": "python",
   "pygments_lexer": "ipython2",
   "version": "2.7.6"
  }
 },
 "nbformat": 4,
 "nbformat_minor": 0
}